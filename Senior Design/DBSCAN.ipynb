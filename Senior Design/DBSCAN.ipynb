{
 "cells": [
  {
   "cell_type": "markdown",
   "metadata": {},
   "source": [
    "DBSCAN"
   ]
  },
  {
   "cell_type": "code",
   "execution_count": 50,
   "metadata": {},
   "outputs": [],
   "source": [
    "import pandas as pd\n",
    "import numpy as np\n",
    "import matplotlib.pyplot as plt\n",
    "import seaborn as sns\n",
    "from sklearn.cluster import DBSCAN\n",
    "from sklearn.metrics import pairwise_distances"
   ]
  },
  {
   "cell_type": "code",
   "execution_count": 13,
   "metadata": {},
   "outputs": [
    {
     "data": {
      "text/plain": [
       "(          latitude  longitude\n",
       " division                     \n",
       " 2000000   32.13096   -81.1754\n",
       " 2000001   31.90371   -81.3927\n",
       " 2000002   32.52669   -80.8297\n",
       " 2000003   32.41475   -81.8462\n",
       " 2000004   32.73236   -96.8718, (231, 2))"
      ]
     },
     "execution_count": 13,
     "metadata": {},
     "output_type": "execute_result"
    }
   ],
   "source": [
    "data = pd.DataFrame = pd.read_csv('4-7_cluster_division.csv', index_col='division')\n",
    "#data[['Business Unit','Latitude','Longitude']].groupby(['Business Unit'])\n",
    "data.head(), data.shape"
   ]
  },
  {
   "cell_type": "code",
   "execution_count": 56,
   "metadata": {},
   "outputs": [
    {
     "data": {
      "text/plain": [
       "(array([[0.        , 0.31442305, 0.52546239, ..., 6.33307792, 5.41367399,\n",
       "         5.61130448],\n",
       "        [0.31442305, 0.        , 0.8396863 , ..., 6.06410391, 5.145532  ,\n",
       "         5.33710976],\n",
       "        [0.52546239, 0.8396863 , 0.        , ..., 6.7796997 , 5.86052254,\n",
       "         6.06738406],\n",
       "        ...,\n",
       "        [6.33307792, 6.06410391, 6.7796997 , ..., 0.        , 0.91954242,\n",
       "         0.74945274],\n",
       "        [5.41367399, 5.145532  , 5.86052254, ..., 0.91954242, 0.        ,\n",
       "         0.28230912],\n",
       "        [5.61130448, 5.33710976, 6.06738406, ..., 0.74945274, 0.28230912,\n",
       "         0.        ]]), (231, 231))"
      ]
     },
     "execution_count": 56,
     "metadata": {},
     "output_type": "execute_result"
    }
   ],
   "source": [
    "#Convert to array \n",
    "train = data.reset_index(drop=True).values\n",
    "\n",
    "dij = pairwise_distances(train, metric='euclidean')\n",
    "dij, dij.shape"
   ]
  },
  {
   "cell_type": "code",
   "execution_count": 67,
   "metadata": {},
   "outputs": [
    {
     "data": {
      "text/plain": [
       "(array([ 0,  0, -1, -1,  1,  1,  1,  1,  1,  1,  1,  2,  3,  2,  3,  3,  2,\n",
       "        -1,  4,  4,  4,  5,  5,  5,  5, -1,  6,  6, -1, -1,  7,  7,  8, -1,\n",
       "         7,  8,  9, -1,  9, 10, 11, 10, 10, 11, -1, 11, -1, -1, 12, -1, 12,\n",
       "        12, -1, 12, -1, 12, 12, -1, 13, 13, -1, -1, 14, 14, 14, -1, -1, 14,\n",
       "        -1, 15, 15, 16, -1, 16, -1, 16, 16, -1, -1, -1, -1, -1, 17, 17, -1,\n",
       "        18, -1, 18, -1, -1, -1, -1, -1, -1, -1, -1, 19, 19, 20, 20, 21, 21,\n",
       "        21, -1, -1, 22, -1, -1, 22, -1, 23, -1, 23, -1, 23, 23, -1, -1, -1,\n",
       "        -1, -1, -1, -1, 24, 24, -1, 25, 25, 26, -1, 26, -1, -1, -1, -1, -1,\n",
       "        -1, -1, -1, 27, 27, 28, 28, -1, 29, 29, 30, -1, 30, 30, 30, 30, 30,\n",
       "        -1, -1, 31, -1, 31, -1, -1, -1, -1, -1, -1, -1, -1, 32, 32, 32, 33,\n",
       "        34, 34, 34, -1, -1, 35, 35, 36, -1, 36, 37, 37, 37, 37, 38, 38, -1,\n",
       "        -1, -1, -1, 33, 33, 33, 33, 33, 33, 33, 33, 33, 33, 33, 33, 33, 33,\n",
       "        33, 33, 33, 33, 33, 33, 33, 33, 33, 33, 33, 33, 33, 33, 33, 33, 33,\n",
       "        33, 33, 33,  2,  2,  2,  2,  2, 39, 39], dtype=int64), (231,))"
      ]
     },
     "execution_count": 67,
     "metadata": {},
     "output_type": "execute_result"
    }
   ],
   "source": [
    "# Compute DBSCAN\n",
    "db = DBSCAN(eps=0.4, min_samples=2,metric='precomputed').fit(dij)\n",
    "core_samples_mask = np.zeros_like(db.labels_, dtype=bool)\n",
    "core_samples_mask[db.core_sample_indices_] = True\n",
    "labels = db.labels_\n",
    "\n",
    "# Number of clusters in labels, ignoring noise if present.\n",
    "n_clusters = len(set(labels)) - (1 if -1 in labels else 0)\n",
    "n_noise = list(labels).count(-1)\n",
    "\n",
    "labels, labels.shape"
   ]
  },
  {
   "cell_type": "code",
   "execution_count": 69,
   "metadata": {},
   "outputs": [],
   "source": [
    "# save numpy array as csv file\n",
    "from numpy import asarray\n",
    "from numpy import savetxt\n",
    "\n",
    "savetxt('DBSCAN_Output.csv', labels, delimiter=',')"
   ]
  },
  {
   "cell_type": "code",
   "execution_count": null,
   "metadata": {},
   "outputs": [],
   "source": []
  }
 ],
 "metadata": {
  "kernelspec": {
   "display_name": "Python 3",
   "language": "python",
   "name": "python3"
  },
  "language_info": {
   "codemirror_mode": {
    "name": "ipython",
    "version": 3
   },
   "file_extension": ".py",
   "mimetype": "text/x-python",
   "name": "python",
   "nbconvert_exporter": "python",
   "pygments_lexer": "ipython3",
   "version": "3.6.8"
  }
 },
 "nbformat": 4,
 "nbformat_minor": 2
}
