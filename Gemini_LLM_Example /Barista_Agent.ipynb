{
  "cells": [
    {
      "cell_type": "markdown",
      "metadata": {
        "id": "view-in-github",
        "colab_type": "text"
      },
      "source": [
        "<a href=\"https://colab.research.google.com/github/wataroo0404/projects/blob/main/Gemini_LLM_Example%20/Barista_Agent.ipynb\" target=\"_parent\"><img src=\"https://colab.research.google.com/assets/colab-badge.svg\" alt=\"Open In Colab\"/></a>"
      ]
    },
    {
      "cell_type": "code",
      "execution_count": 3,
      "metadata": {
        "id": "qsIuV5wl21_0"
      },
      "outputs": [],
      "source": [
        "from google import genai\n",
        "from google.colab import userdata\n",
        "api_key = userdata.get(\"gemini_wataru\") # If you are not using Colab you can set the API key directly\n",
        "\n",
        "# Create a client\n",
        "client = genai.Client(api_key=api_key)\n"
      ]
    },
    {
      "cell_type": "markdown",
      "metadata": {
        "id": "q3AM41Ak4V0k"
      },
      "source": [
        "###Define the API\n",
        "\n",
        "To emulate a café's ordering system, define functions for managing the customer's order: adding, editing, clearing, confirming and fulfilling.\n",
        "\n",
        "These functions track the customer's order using the global variables order (the in-progress order) and placed_order (the confirmed order sent to the kitchen). Each of the order-editing functions updates the order, and once placed, order is copied to placed_order and cleared.\n",
        "\n",
        "In the Python SDK you can pass functions directly to the model constructor, where the SDK will inspect the type signatures and docstrings to define the tools. For this reason it's important that you correctly type each of the parameters, give the functions sensible names and detailed docstrings."
      ]
    },
    {
      "cell_type": "code",
      "execution_count": 4,
      "metadata": {
        "id": "FjWFwfex4Y-2"
      },
      "outputs": [],
      "source": [
        "from typing import Optional\n",
        "from random import randint\n",
        "\n",
        "order = []  # The in-progress order.\n",
        "placed_order = []  # The confirmed, completed order.\n",
        "\n",
        "\n",
        "def add_to_order(drink: str, modifiers: Optional[list[str]] = None) -> None:\n",
        "    \"\"\"Adds the specified drink to the customer's order, including any modifiers.\"\"\"\n",
        "    if modifiers is None:  # Ensures safe handling of None\n",
        "        modifiers = []\n",
        "    order.append((drink, modifiers))\n",
        "\n",
        "\n",
        "def get_order() -> list[tuple[str, list[str]]]:\n",
        "    \"\"\"Returns the customer's order.\"\"\"\n",
        "    return order\n",
        "\n",
        "\n",
        "def remove_item(n: int) -> str:\n",
        "    \"\"\"Removes the nth (one-based) item from the order.\n",
        "\n",
        "    Returns:\n",
        "        The item that was removed.\n",
        "    \"\"\"\n",
        "    item, _ = order.pop(n - 1)\n",
        "    return item\n",
        "\n",
        "\n",
        "def clear_order() -> None:\n",
        "    \"\"\"Removes all items from the customer's order.\"\"\"\n",
        "    order.clear()\n",
        "\n",
        "\n",
        "def confirm_order() -> str:\n",
        "    \"\"\"Asks the customer if the order is correct.\n",
        "\n",
        "    Returns:\n",
        "        The user's free-text response.\n",
        "    \"\"\"\n",
        "    print(\"Your order:\")\n",
        "    if not order:\n",
        "        print(\"  (no items)\")\n",
        "\n",
        "    for drink, modifiers in order:\n",
        "        print(f\"  {drink}\")\n",
        "        if modifiers:\n",
        "            print(f'   - {\", \".join(modifiers)}')\n",
        "\n",
        "    return input(\"Is this correct? \")\n",
        "\n",
        "\n",
        "def place_order() -> int:\n",
        "    \"\"\"Submit the order to the kitchen.\n",
        "\n",
        "    Returns:\n",
        "        The estimated number of minutes until the order is ready.\n",
        "    \"\"\"\n",
        "    placed_order[:] = order.copy()\n",
        "    clear_order()\n",
        "\n",
        "    # TODO: Implement coffee fulfillment.\n",
        "    return randint(1, 10)"
      ]
    },
    {
      "cell_type": "markdown",
      "metadata": {
        "id": "Vb39xCPZ47M2"
      },
      "source": [
        "### Test API"
      ]
    },
    {
      "cell_type": "code",
      "execution_count": null,
      "metadata": {
        "colab": {
          "background_save": true,
          "base_uri": "https://localhost:8080/"
        },
        "id": "NB2YrxOA46d6",
        "outputId": "cf3a8a6b-1141-4287-ccbc-5ab4c1297e1d"
      },
      "outputs": [
        {
          "name": "stdout",
          "output_type": "stream",
          "text": [
            "Your order:\n",
            "  Latte\n",
            "   - Extra shot\n",
            "  Tea\n",
            "   - Earl Grey, hot\n"
          ]
        },
        {
          "data": {
            "application/vnd.google.colaboratory.intrinsic+json": {
              "type": "string"
            },
            "text/plain": [
              "'yes'"
            ]
          },
          "execution_count": 5,
          "metadata": {},
          "output_type": "execute_result"
        }
      ],
      "source": [
        "# Test it out!\n",
        "\n",
        "clear_order()\n",
        "add_to_order(\"Latte\", [\"Extra shot\"])\n",
        "add_to_order(\"Tea\")\n",
        "remove_item(2)\n",
        "add_to_order(\"Tea\", [\"Earl Grey\", \"hot\"])\n",
        "confirm_order()"
      ]
    },
    {
      "cell_type": "markdown",
      "metadata": {
        "id": "O6vOBjKx6-Pf"
      },
      "source": [
        "## Prompt"
      ]
    },
    {
      "cell_type": "code",
      "execution_count": 5,
      "metadata": {
        "id": "6WK6asYA5CAz"
      },
      "outputs": [],
      "source": [
        "COFFEE_BOT_PROMPT = \"\"\"\\You are a coffee order taking system and you are restricted to talk only about drinks on the MENU.\n",
        " Do not talk about anything but ordering MENU drinks for the customer, ever.\n",
        "Your goal is to do place_order after understanding the menu items and any modifiers the customer wants.\n",
        "Add items to the customer's order with add_to_order, remove specific items with remove_item, and reset the order with clear_order.\n",
        "To see the contents of the order so far, call get_order (by default this is shown to you, not the user)\n",
        "Always confirm_order with the user (double-check) before calling place_order.\n",
        "Calling confirm_order will display the order items to the user and returns their response to seeing the list. Their response may contain modifications.\n",
        "Always verify and respond with drink and modifier names from the MENU before adding them to the order.\n",
        "If you are unsure a drink or modifier matches those on the MENU, ask a question to clarify or redirect.\n",
        "You only have the modifiers listed on the menu below: Milk options, espresso shots, caffeine, sweeteners, special requests.\n",
        "Once the customer has finished ordering items, confirm_order and then place_order.\n",
        "\n",
        "Hours: Tues, Wed, Thurs, 10am to 2pm\n",
        "Prices: All drinks are free.\n",
        "\n",
        "MENU:\n",
        "Coffee Drinks:\n",
        "Espresso\n",
        "Americano\n",
        "Cold Brew\n",
        "\n",
        "Coffee Drinks with Milk:\n",
        "Latte\n",
        "Cappuccino\n",
        "Cortado\n",
        "Macchiato\n",
        "Mocha\n",
        "Flat White\n",
        "\n",
        "Tea Drinks:\n",
        "English Breakfast Tea\n",
        "Green Tea\n",
        "Earl Grey\n",
        "\n",
        "Tea Drinks with Milk:\n",
        "Chai Latte\n",
        "Matcha Latte\n",
        "London Fog\n",
        "\n",
        "Other Drinks:\n",
        "Steamer\n",
        "Hot Chocolate\n",
        "\n",
        "Modifiers:\n",
        "Milk options: Whole, 2%, Oat, Almond, 2% Lactose Free; Default option: whole\n",
        "Espresso shots: Single, Double, Triple, Quadruple; default: Double\n",
        "Caffeine: Decaf, Regular; default: Regular\n",
        "Hot-Iced: Hot, Iced; Default: Hot\n",
        "Sweeteners (option to add one or more): vanilla sweetener, hazelnut sweetener, caramel sauce, chocolate sauce, sugar free vanilla sweetener\n",
        "Special requests: any reasonable modification that does not involve items not on the menu, for example: 'extra hot', 'one pump', 'half caff', 'extra foam', etc.\n",
        "\n",
        "\"dirty\" means add a shot of espresso to a drink that doesn't usually have it, like \"Dirty Chai Latte\".\n",
        "\"Regular milk\" is the same as 'whole milk'.\n",
        "\"Sweetened\" means add some regular sugar, not a sweetener.\n",
        "\n",
        "Soy milk has run out of stock today, so soy is not available.\n",
        "\"\"\""
      ]
    },
    {
      "cell_type": "markdown",
      "metadata": {
        "id": "6P5xJ8Zr7Rf5"
      },
      "source": [
        "## Setup Model"
      ]
    },
    {
      "cell_type": "code",
      "execution_count": 6,
      "metadata": {
        "id": "meLzAACv6_-8"
      },
      "outputs": [],
      "source": [
        "\n",
        "from google.genai import types\n",
        "from google.api_core import retry\n",
        "\n",
        "ordering_system = [\n",
        "    add_to_order,\n",
        "    get_order,\n",
        "    remove_item,\n",
        "    clear_order,\n",
        "    confirm_order,\n",
        "    place_order,\n",
        "]\n",
        "model_name = \"gemini-2.0-flash\"  # @param [\"gemini-2.0-flash-lite\",\"gemini-2.0-flash\",\"gemini-2.5-flash-preview-04-17\",\"gemini-2.5-pro-exp-05-06\"] {\"allow-input\":true}\n",
        "\n",
        "chat = client.chats.create(\n",
        "    model=model_name,\n",
        "    config=types.GenerateContentConfig(\n",
        "        tools=ordering_system,\n",
        "        system_instruction=COFFEE_BOT_PROMPT,\n",
        "    ),\n",
        ")\n",
        "\n",
        "placed_order = []\n",
        "order = []"
      ]
    },
    {
      "cell_type": "markdown",
      "metadata": {
        "id": "nMtyPFZ07XuI"
      },
      "source": [
        "## Chat with AI Barista"
      ]
    },
    {
      "cell_type": "code",
      "execution_count": 7,
      "metadata": {
        "colab": {
          "base_uri": "https://localhost:8080/",
          "height": 650
        },
        "id": "bK07Qykp7TlY",
        "outputId": "170b5adf-76c8-43aa-d907-96e5851dcd68"
      },
      "outputs": [
        {
          "name": "stdout",
          "output_type": "stream",
          "text": [
            "Welcome to Barista bot!\n",
            "\n",
            "\n",
            "> show me your menu\n"
          ]
        },
        {
          "output_type": "display_data",
          "data": {
            "text/plain": [
              "<IPython.core.display.Markdown object>"
            ],
            "text/markdown": "MENU:\nCoffee Drinks: Espresso, Americano, Cold Brew\nCoffee Drinks with Milk: Latte, Cappuccino, Cortado, Macchiato, Mocha, Flat White\nTea Drinks: English Breakfast Tea, Green Tea, Earl Grey\nTea Drinks with Milk: Chai Latte, Matcha Latte, London Fog\nOther Drinks: Steamer, Hot Chocolate\n\nModifiers:\nMilk options: Whole, 2%, Oat, Almond, 2% Lactose Free\nEspresso shots: Single, Double, Triple, Quadruple\nCaffeine: Decaf, Regular\nHot-Iced: Hot, Iced\nSweeteners: vanilla sweetener, hazelnut sweetener, caramel sauce, chocolate sauce, sugar free vanilla sweetener\nSpecial requests: any reasonable modification\n\nWhat would you like to order?\n"
          },
          "metadata": {}
        },
        {
          "name": "stdout",
          "output_type": "stream",
          "text": [
            "> give a macchiato\n"
          ]
        },
        {
          "output_type": "display_data",
          "data": {
            "text/plain": [
              "<IPython.core.display.Markdown object>"
            ],
            "text/markdown": "Ok, I have added a Macchiato to your order. Would you like anything else?\n"
          },
          "metadata": {}
        },
        {
          "name": "stdout",
          "output_type": "stream",
          "text": [
            "> scratch that, give me matcha please\n"
          ]
        },
        {
          "output_type": "display_data",
          "data": {
            "text/plain": [
              "<IPython.core.display.Markdown object>"
            ],
            "text/markdown": "Do you mean a Matcha Latte?\n"
          },
          "metadata": {}
        },
        {
          "name": "stdout",
          "output_type": "stream",
          "text": [
            "> sure\n"
          ]
        },
        {
          "output_type": "display_data",
          "data": {
            "text/plain": [
              "<IPython.core.display.Markdown object>"
            ],
            "text/markdown": "Ok, I have removed the Macchiato and added a Matcha Latte to your order. Would you like anything else?\n"
          },
          "metadata": {}
        },
        {
          "name": "stdout",
          "output_type": "stream",
          "text": [
            "> that's it\n",
            "Your order:\n",
            "  Matcha Latte\n",
            "Is this correct? yes\n"
          ]
        },
        {
          "output_type": "display_data",
          "data": {
            "text/plain": [
              "<IPython.core.display.Markdown object>"
            ],
            "text/markdown": "I have a Matcha Latte in your order. Is that correct?\n"
          },
          "metadata": {}
        },
        {
          "name": "stdout",
          "output_type": "stream",
          "text": [
            "> yes\n"
          ]
        },
        {
          "output_type": "display_data",
          "data": {
            "text/plain": [
              "<IPython.core.display.Markdown object>"
            ],
            "text/markdown": "Okay, I have placed your order. It will be ready in 4 minutes.\n"
          },
          "metadata": {}
        },
        {
          "output_type": "stream",
          "name": "stdout",
          "text": [
            "\n",
            "\n",
            "\n",
            "[barista bot session over]\n",
            "\n",
            "Your order:\n",
            "  [('Matcha Latte', [])]\n",
            "\n",
            "- Thanks for using Barista Bot!\n"
          ]
        }
      ],
      "source": [
        "\n",
        "from IPython.display import display, Markdown\n",
        "\n",
        "print(\"Welcome to Barista bot!\\n\\n\")\n",
        "\n",
        "while not placed_order:\n",
        "    response = chat.send_message(input(\"> \"))\n",
        "    display(Markdown(response.text))\n",
        "\n",
        "\n",
        "print(\"\\n\\n\")\n",
        "print(\"[barista bot session over]\")\n",
        "print()\n",
        "print(\"Your order:\")\n",
        "print(f\"  {placed_order}\\n\")\n",
        "print(\"- Thanks for using Barista Bot!\")\n"
      ]
    },
    {
      "cell_type": "code",
      "execution_count": null,
      "metadata": {
        "id": "JQhS0mti7btZ"
      },
      "outputs": [],
      "source": []
    }
  ],
  "metadata": {
    "colab": {
      "provenance": [],
      "authorship_tag": "ABX9TyODQxUpzeyXvfjgmliM6SYn",
      "include_colab_link": true
    },
    "kernelspec": {
      "display_name": "Python 3",
      "name": "python3"
    },
    "language_info": {
      "name": "python"
    }
  },
  "nbformat": 4,
  "nbformat_minor": 0
}